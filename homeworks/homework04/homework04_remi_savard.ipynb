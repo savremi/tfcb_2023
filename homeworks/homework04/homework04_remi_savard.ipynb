{
 "cells": [
  {
   "attachments": {},
   "cell_type": "markdown",
   "metadata": {},
   "source": [
    "# __Homework 4:__ Practical analysis with BioPython"
   ]
  },
  {
   "attachments": {},
   "cell_type": "markdown",
   "metadata": {},
   "source": [
    "For the homework, you are going to extend the code from the analysis of our FASTQ file in lectures 8 and 9.\n",
    "Recall that the FASTQ file contains reads from a real sequencing run of influenza virus HA and NA genes.\n",
    "\n",
    "---\n",
    "The __actual sequences__ are as follows:\n",
    "\n",
    "    5'-[end of HA]-AGGCGGCCGC-[16 X N barcode]-3'\n",
    "or \n",
    "\n",
    "    5'-[end of NA]-AGGCGGCCGC-[16 X N barcode]-3'\n",
    "---\n",
    "\n",
    "\n",
    "__The end of NA is__ `...CACGATAGATAAATAATAGTGCACCAT`\n",
    "    \n",
    "__The end of HA is__ `...CCGGATTTGCATATAATGATGCACCAT`\n",
    "\n",
    "---    \n",
    "\n",
    "    \n",
    "The __sequencing reads__ from the reverse end of the molecules (in 5'>3' orientation), so the sequencing reads are as follows:\n",
    "\n",
    "    5'-[reverse complement of 16 X N barcode]-GCGGCCGCCT-[reverse complement of the end of HA]-3'\n",
    "or\n",
    "\n",
    "    5'-[reverse complement of 16 X N barcode]-GCGGCCGCCT-[reverse complement of the end of NA]-3'\n",
    "\n",
    "---   \n",
    "    \n",
    "The reads can originate from **either** HA or NA, and that will be distinguished by the most 3' end of the read.\n",
    "But in our example exercise in class, we did not distinguish among reads matching to HA and NA, as we didn't even look far enough into the read to tell the identity.\n",
    "\n",
    "For the homework, your goal is to write code that extends the material from lectures 8 and 9 to also distinguish between HA and NA.\n",
    "This homework can be completed almost entirely by re-using code from lecture 9. You will need to set up your analysis to do the following:\n",
    " 1. Get the reverse complement of each read.\n",
    " 2. Determine if it matches the expected pattern for HA and NA, and if so which one.\n",
    " 3. If it matches, extract the barcode and add it to a dictionary to keep track of counts.\n",
    " 4. Determine the number and distribution of barcodes for HA and NA separately.\n",
    "\n",
    "Please include code to address each of the following questions. Please include code comments to explain what your code is attempting to accomplish. Don't forget to include references to the sources you used to obtain your answer, including your classmates (if you are working in groups).  "
   ]
  },
  {
   "cell_type": "markdown",
   "metadata": {},
   "source": [
    "1. How many reads map to HA, and how many reads map to NA?"
   ]
  },
  {
   "cell_type": "markdown",
   "metadata": {},
   "source": [
    "# this is Remi's homework! \n",
    "## I worked with Jonathan Mattingly to debug our answers but all the work below is mine"
   ]
  },
  {
   "cell_type": "code",
   "execution_count": 46,
   "metadata": {},
   "outputs": [],
   "source": [
    "#load the necessary packages\n",
    "import re\n",
    "import Bio.SeqIO\n",
    "from Bio.Seq import Seq\n"
   ]
  },
  {
   "cell_type": "code",
   "execution_count": 47,
   "metadata": {},
   "outputs": [],
   "source": [
    "#load data:\n",
    "#to run this notebook, script and fastq file should be in same working directory\n",
    "    #this was adapted from example code in lecture 9\n",
    "\n",
    "#read the data as a list \n",
    "seqreads = list(Bio.SeqIO.parse('barcodes_R1.fastq', 'fastq'))"
   ]
  },
  {
   "cell_type": "code",
   "execution_count": 48,
   "metadata": {},
   "outputs": [],
   "source": [
    "#get just the sequence info out of the SeqRecord object\n",
    "\n",
    "#first, initialize an empty list\n",
    "seqreads_Seq = []\n",
    "\n",
    "#get just the sequence without annotations out of seqreads\n",
    "for seqrecord in seqreads:\n",
    "    seqreads_Seq.append(seqrecord.seq)\n",
    "#remember that at this point, each index of the list is a Seq object\n"
   ]
  },
  {
   "cell_type": "code",
   "execution_count": 49,
   "metadata": {},
   "outputs": [],
   "source": [
    "#now that we have our data in a list of Seq objects, lets find the reverse complement of each\n",
    "#note that this \"reverse complement\" is the actual sequence\n",
    "\n",
    "#initialize an empty list\n",
    "seqreads_RevComp = []\n",
    "\n",
    "#assign each seq's reverse complement to the new list\n",
    "for seq in seqreads_Seq:\n",
    "    seqreads_RevComp.append(seq.reverse_complement())"
   ]
  },
  {
   "cell_type": "code",
   "execution_count": 50,
   "metadata": {},
   "outputs": [],
   "source": [
    "#new function! :)\n",
    "#this function will search each sequence read for the ending seq, which we can later check if they match NA or HA\n",
    "\n",
    "def read_type(seqread, endlen=27, downstream='AGGCGGCCGC'):\n",
    "    \"\"\"Identify ending sequence of reads with known downstream sequence.\n",
    "    \n",
    "    Parameters\n",
    "    ----------\n",
    "    seqread : Seq object\n",
    "        Nucleotide sequence of influenza reads.\n",
    "    endlen : int\n",
    "        Length of HA/NA end type defining sequence.\n",
    "    downstream: str\n",
    "        Sequence downstream of the defining HA/NA sequences.\n",
    "        \n",
    "    Returns\n",
    "    -------\n",
    "    str or None\n",
    "        Sequence of the barcode in the forward orientation, or `None` if no match to expected barcoded sequence.\n",
    "        \n",
    "   #downstream seq: AGGCGGCCGC\n",
    "        \n",
    "    \"\"\"\n",
    "    \n",
    "    #first convert seq object to str\n",
    "    seqread_str = str(seqread)\n",
    "    \n",
    "    #assemble regular expression to look for a sequence of any characters, length 'endlen', before the 'downstream' sequence\n",
    "    type_re = re.compile(\"(?P<type>.{\" + str(endlen) + \"})\" + downstream)\n",
    "    \n",
    "    #store the matching strings\n",
    "    match = type_re.search(seqread_str)\n",
    "\n",
    "    #if you got a match, assign that string (which we called \"type\") to a new str variable \"type\"\n",
    "    if match:\n",
    "        type = match.group(\"type\")\n",
    "    else:\n",
    "        type = None\n",
    "    \n",
    "    \n",
    "    \n",
    "    return type"
   ]
  },
  {
   "cell_type": "code",
   "execution_count": 51,
   "metadata": {},
   "outputs": [],
   "source": [
    "# also re-define the same \"read barcode\" function from lecture 9; almost exactly the same\n",
    "# we will use this if the read matches HA or NA to store its barcode\n",
    "\n",
    "def read_barcode(seqread, bclen = 16, upstream='AGGCGGCCGC'):\n",
    "    \"\"\"Identify barcode with known upstream sequence.\n",
    "    \n",
    "    Parameters\n",
    "    ----------\n",
    "    seqread : Seq object\n",
    "        Nucleotide sequence read matching UPSTREAM-BARCODE in reverse orientation.\n",
    "    bclen : int\n",
    "        Length of barcode\n",
    "    upstream: str\n",
    "        Sequence upstream of the barcode.\n",
    "        \n",
    "    Returns\n",
    "    -------\n",
    "    str or None\n",
    "        Sequence of the barcode in the forward orientation, or `None` if no match to expected barcoded sequence.\n",
    "\n",
    "        \n",
    "    \"\"\"\n",
    "\n",
    "    sequence_str = str(seqread)\n",
    "    \n",
    "    barcode_re = re.compile(upstream + \"(?P<barcode>[ATCG]{\" + str(bclen) + \"})$\")\n",
    "    \n",
    "    match = barcode_re.search(sequence_str)\n",
    "    if match:\n",
    "        barcode = match.group(\"barcode\")\n",
    "    else:\n",
    "        barcode = None\n",
    "    \n",
    "    return barcode"
   ]
  },
  {
   "attachments": {},
   "cell_type": "markdown",
   "metadata": {},
   "source": [
    "2. How many HA sequences did not have a valid barcode? Also anwer the same question for NA."
   ]
  },
  {
   "cell_type": "code",
   "execution_count": 52,
   "metadata": {},
   "outputs": [
    {
     "name": "stdout",
     "output_type": "stream",
     "text": [
      "Found 711 invalid reads, 3973 NA reads, and 5316 HA reads \n",
      "{'invalid': 66, 'ACTAAATAACTTAAGC': 62, 'CTACCCGTTTCCCAAC': 118, 'CGTCTTCCATCCCCAT': 133, 'GCGAGTCCACCAATTG': 93, 'ATATAAATAAGCTATG': 51, 'TCTTTTCTTATTGAGG': 73, 'ATAAACGTTCCCCAAG': 107, 'ACCCGTGAACCAAAGC': 1, 'AATCGTACATCCCCAC': 123, 'CCACCAGCCATACGGC': 93, 'TGGACTCCACACCCCG': 76, 'TCAAGAAGCCTTGGAG': 150, 'TTTCTCCCGCATCTCG': 105, 'AATCAATACGACCTGT': 74, 'TGACAATACCCTACTC': 46, 'TTTCTCCCCCATCTCG': 1, 'CATTCACTACTCCCAA': 92, 'TCACCAGTGATCCCTT': 65, 'ACCACCGCCACACCCT': 44, 'GCTGCATTCCTGTGGC': 72, 'GTTCAGGACACACTTA': 70, 'CCAGCCTCACACTAGC': 107, 'ACGCGTGAACCAAAGC': 102, 'ACCAGTTCTCCCCGGG': 152, 'TCACGGCCACGAGTAA': 65, 'TAACACTGATGGCAAC': 76, 'GCATGTTATAAACTCC': 45, 'TCACCCCGACCAGCAG': 33, 'TTCCACCTCACCTTCT': 95, 'GATAGTCGAACACATG': 85, 'TGATGTAATGACAGGC': 74, 'GCACATAGGGAGCCAA': 58, 'TCTGGCAGGCCTCGCT': 122, 'GAACCCTAGAATCCCC': 69, 'CTAATTCAATCCTACG': 99, 'CTTACCATATTACAAA': 105, 'TGTACAGCAAAAGTAG': 69, 'TGACATCGCGAGACGG': 72, 'CCATGTCTTGCTCGCC': 24, 'TCAAGCCTGCCACACG': 39, 'AAATTTCTTCCCACAC': 16, 'GCACTTACATATATGA': 69, 'GCAAGAAGCCTTGGAG': 1, 'TGACGATCCTCAAGAA': 141, 'ACGAAACTCATATAAA': 72, 'ACTGCCATCCCACACC': 49, 'CGCAGCCGGACTCACA': 70, 'TGACATCACGAGACGG': 1, 'GAACCCTAGAAACCCC': 2, 'CACACACCGTGACAGG': 88, 'CTCACTTATTGTTCTG': 48, 'CGTCTTCCATCCACAT': 1, 'CTCTCAGTTTACGAAA': 18, 'ACTCGATTACACGTGC': 83, 'GCATTTTATAAACTCC': 1, 'ACGCGTGAACCAAAGG': 1, 'TCACCCCGACCAGAAG': 1, 'TATCGTACATCCCCAC': 1, 'CGTCTTCCATCCCCAC': 9, 'ACCAGTGCTCCCCGGT': 1, 'GTTCAGTACACACTTA': 1, 'ACGCGTGAACAAAAGC': 2, 'ATAAACGTTCCCCAAT': 1, 'TCACCAGTTATCCCTT': 1, 'GTTCAGGAGACACTTA': 1, 'GCGAGTCAACCAATTG': 1, 'ACGAAAGTCATATAAA': 1, 'TTTCTCCCGCATCTCC': 1, 'GATAGGCGAACACATG': 1, 'TGTACAACAAAAGTAG': 1, 'AAGAAACTCATATAAA': 1, 'CGTCTTCCATCCGCAT': 1, 'ACCAGTTCTCCCCTGG': 2, 'TGTGCAGCAAAAGTAG': 1, 'GAACCCTAGAAGCCCC': 1, 'TCAAGAAGCCTTGGTG': 1, 'GTTCAGGATACACTTA': 1, 'ACACTCACGACCCAAA': 16, 'TGTACAGCAAGAGTAG': 1, 'TAACACTGATGGAAAC': 2, 'ACATGTCTTGCTCGCC': 1, 'CGTCTTCCATCCCAAT': 1, 'TAACACTTATGGCAAC': 1, 'ACCAGTTCTCCCCGGA': 2, 'ACTAAAGAACTTAAGC': 1, 'TGACATAGCGAGACGG': 1, 'AATCAATACCACCTGT': 1, 'ACCAGTTCTCCCAGGG': 1, 'ACGCGTGAACCAAATC': 1, 'ATATAAATAATCTATG': 1, 'ACCAGTGCTCCCCGGG': 1, 'TGACATCTCGAGACGG': 1, 'ACTCGATTACGCGTGC': 1, 'GATAGTTGAACACATG': 1, 'TGACTATCCTCAAGAA': 1, 'ACTCAATTACACGTGC': 1, 'TGACAATACCCTACCC': 1, 'TCTGGCAGGACTCGCT': 1, 'TCACGGCCACGATTAA': 1, 'AATAGTACATCCCCAC': 1, 'ATAAACGTTCCCCAAA': 1, 'GCTGCATTCCTGTGGA': 1, 'GGACTTACATATATGA': 1, 'CTTACCATATTAAAAA': 1, 'AATCAATACGACCTTT': 1, 'ATCACTTATTGTTCTG': 1, 'CGTCTTCCATCCTCAT': 1, 'GTTCACGACACACTTA': 1, 'TGACGAGCCTCAAGAA': 1, 'AATCGTACATCCCCGC': 1, 'GCATGTTATAAACTCA': 1, 'CACACACCTTGACAGG': 1, 'AATCGTACATCAACAC': 1, 'GCGACTCCACCAATTG': 1, 'CATTCACTAATCCCAA': 1, 'CTAATTCAATCATACG': 1, 'ATATAAAGAAGCTATG': 1, 'ACCACCGCCACACCCC': 1, 'GATAGTCGAGCACATG': 1, 'GCACATAGGGAGCAAA': 1, 'CATTCACTACTCCCAT': 1, 'TCACGTCCACGAGTAA': 1, 'TCTCCAGTGATCCCTT': 1, 'ACACTCACCACCCAAA': 1, 'TAGACTCCACACCCCG': 1, 'GCTGCATGCCTGTGGC': 1, 'GCAGCCTCACACTAGC': 1, 'ACTGCCATCCCACTCC': 1, 'ATATAAATAAGCTATA': 1, 'GTAAACGTTCCCCAAG': 1, 'TCAAGAAGGCTTGGAG': 1, 'CTTACCATATTACAAT': 1, 'TCAAGCCTGCCATACG': 1, 'CATTAACTACTCCCAA': 1, 'GCACATAAGGAGCCAA': 1}\n",
      "{'invalid': 71, 'AACCGTGACCAGGAAG': 70, 'TTATCGTCTCCCATAT': 77, 'CATACCAGTCATCCCT': 28, 'ACTTACGTATAAGTCA': 53, 'GCTACTACTATACCAT': 119, 'GTTACCCACAGTCCGC': 62, 'CACCACACAAGGATGT': 41, 'TCATACATCACACTTA': 47, 'GTACCCTCCGTGAATC': 99, 'ACTCCACGCTACCACG': 31, 'GCACTCCTCAACCCTT': 48, 'CCGCTCCCTGCTGTCC': 43, 'AAACGTAGCGATAACT': 61, 'TCACGTCCCATATTAC': 9, 'CCCGACCCGACATTAA': 155, 'ACGAGAGGTCGACTCG': 60, 'TTCGACTTCCTAGTAC': 86, 'ACCCAGTCTAGCTAAC': 70, 'GGTCATACGCCTTCGC': 16, 'CTTAACCTTCCGACAA': 55, 'TGGGCAATAAATGTAG': 57, 'CCCTCATCCTGTGTCA': 54, 'AATTCCATTCAGGCTG': 35, 'TTCTAGCCTTATCTCC': 81, 'AGAATAATCTCAAACT': 62, 'AAACAAACAAGTCTGT': 50, 'AATACGAACATCTCGG': 49, 'CGAATCTGCGCAATCT': 60, 'GATTTCCGATCAGTCT': 124, 'AGAACGTCTTGATAGC': 30, 'GACCGGTGCTTCAACA': 76, 'TGCTGACAACACGTAA': 47, 'ATAGTCGGGCCTACCG': 21, 'TTCCCAATGGTACTCG': 28, 'CTGGCAAGAAAATTCC': 43, 'TTCGGTGAACGTACAC': 76, 'CTCCATCACTCGCCAA': 115, 'TCAACCCCACGCCGCT': 24, 'TAACTAGCGTTTTCAA': 1, 'AGTACTCATCGAGCAA': 31, 'AACCGTCACCTCAACC': 104, 'GAACGACCCTTAACTA': 18, 'TCCAGAAACTTCAATG': 71, 'ACACGATACCCTTGAG': 26, 'CCAGCCATCCCCTCTT': 76, 'ATTCACACTCCTGCCA': 22, 'TACTTATTAGCATGTC': 46, 'GGAAATTATACTGCCA': 10, 'GCCCCACAATAACCGC': 38, 'GCACGCGATCTGCGAC': 32, 'AGGCACTAACCCAGCA': 37, 'ACTTCATACCATTACA': 32, 'CCCACCTTCACACCTA': 62, 'ACGAACGTCAAAAAAA': 5, 'GTCGCATATGAAGACG': 40, 'ACAAAACCCCCCGACA': 27, 'TCCGTATATCCAAAAG': 13, 'GAGCGTCCCTTCTAAA': 34, 'TCGCTCAGTCGTCTTT': 38, 'GTTACCCACAGTCGGC': 1, 'GAAATCCCTAACGGGC': 17, 'ATTTACGGGCTAGTTG': 7, 'AGACCGTCAGGCACCA': 46, 'TTCCCTAGAGACTACC': 37, 'TGACAACCACGTCCCC': 29, 'ATACTCTAAAAAATGA': 56, 'CACAACACGTACGCAA': 39, 'TGCACACACACCACGT': 38, 'CCCAGATCCCACCCGC': 12, 'GAGTCACAACCCTGCT': 1, 'ACTGATCAAAGCGTGG': 34, 'ACCGACTCACAGTACT': 52, 'TCGGGCGACTTAAATG': 20, 'GGTTCCGTGTGTGGAC': 40, 'GATCTCCCAAGTTGCC': 28, 'CGAGGCGGAAGGCGTC': 18, 'CGGAACGCCATCACCG': 13, 'TGATTTACCTAACCCG': 47, 'CTGGGTCCCCCCCAAA': 25, 'AAATGAGACAGCCTAC': 45, 'GAGTCACAACCCGGCT': 63, 'TCCCCTCACGGATTCA': 43, 'GTCAAGCGTCTAACCA': 23, 'CGCGTTAAGATCACCA': 20, 'CCCAGACCGTGAGCCA': 25, 'CAGTGATTTATTTGCG': 30, 'CGTCATAGAGACGGTT': 68, 'TGCAATACCAATAACT': 32, 'CTTAGTATTTCAGTAT': 81, 'GCTGCACCAGCTCCTC': 14, 'GTCGCATATGAAGACT': 4, 'ACACCGGTTCCTCCCC': 19, 'CGATCCCGTCCAGACA': 47, 'ACGGATAATTACCGCC': 31, 'CTTAACCGTCCGACAC': 1, 'GGAACACTGTGAAGCA': 40, 'CGAATCTTCGCAATCT': 1, 'ATTACCCCCATTTAAG': 11, 'GACCTCTCAGATTAGA': 42, 'CCAATCCCCTCGAGTG': 24, 'GGTTTTCTAACACCGC': 8, 'GTGAACTTACAGCTCC': 28, 'CCCCTATCATACTCTC': 5, 'AGGGTAGTCGACTACT': 15, 'GCGAAATGCAATCCTC': 26, 'ATAGTACCGCTCGCAA': 1, 'TCTTAACAGCGTCAGC': 17, 'CCGTACCCAAGACCAT': 12, 'GCGTATAAGTACGCCG': 50, 'GGGTCCACGTCCCAAG': 6, 'CGGCCCCAACGCAATA': 23, 'TTATACCTTAGTCAGT': 40, 'GGGCGTCCCTTCTAAA': 1, 'CCCCCCACTACAATTA': 38, 'GAGCACATTTATTCGT': 1, 'ATTGCCCGGTGGCCCT': 39, 'ATTGCATAACTACAAC': 73, 'AATTCCATTCGGGCTG': 1, 'GACCCCTACTTAGTGG': 23, 'TGCCCTGAGCCTGCAC': 8, 'ACGGAAACCCAGGCCA': 36, 'TCTGACTAGCACATCG': 18, 'CATCATAGAGACGGTT': 1, 'ACTTCATACCTTTACA': 1, 'GCTGCACCGGCTCCTC': 1, 'AATAAGAACATCTCGG': 1, 'CCTTTGCTTCGTAATA': 15, 'AAGCTTTCGTCGCGCA': 4, 'TGTCTAAATGTCCACG': 2, 'AGAGTAGTCGACTACT': 1, 'CCTGCATTCTGGATGC': 3, 'CGACGCAGCACCCCAT': 15, 'GACAGAGCTAGCACAG': 18, 'CTTAACCGTCCGACAA': 1, 'CGGTGCTACCTTCTAT': 1, 'GACCGGGGCTTCAACA': 1, 'GTTTCATCCCCCTATC': 18, 'CGGAATCAACCCCCTC': 10, 'TTAGAAGAAATCAAAT': 7, 'CATCATTCTTACTAAA': 32, 'CCCTGACCTAACCACG': 1, 'TCAGTATATCCAAAAG': 2, 'AGTAAATTCCCGGACG': 5, 'CGCACAATACTTCGAC': 35, 'ACAAAACCCCCCGATA': 1, 'TGAGTTTGCAACGAAC': 6, 'TTCGGTGAACGAACAC': 1, 'TCAACCCCACGCCTCT': 1, 'GACCACATTTATTCGT': 45, 'ACATAAATTAAAGGAA': 7, 'AATACGAACATCTAGG': 2, 'TCCACCCACTCGCGAT': 3, 'GCCGCAAGGAACGCTT': 14, 'TCCTCTAGCATCCCCA': 15, 'TCCAGAAACTTGAATG': 1, 'TCGGACGGTATACTGC': 9, 'TAAAAACGTTATAACA': 27, 'CCACCGTGGCAGCCCG': 24, 'CACCGTAATGTCCTAC': 7, 'TCCACCCACTCGAGAT': 1, 'AGGCACTAACCAAGCA': 1, 'TCGGGGGACTTAAATG': 1, 'AAACTTAATAATTTCC': 1, 'GGGTATAAGTACGCCG': 2, 'ATACCCTCCGTGAATC': 1, 'AAAGGTAGCGATAACT': 1, 'TAATACATCACACTTA': 1, 'ACTGATCAAAGCGTGT': 1, 'CATCACGCCCGTTAGC': 18, 'ACTCGTTGTCCCATAA': 18, 'GGTGATACGCCTTCGC': 1, 'AGAATCTGCGCAATCT': 1, 'CCTTTGCTTCGTAACA': 1, 'AAACTTACTAATTTCC': 6, 'CGAATCTGCGCAAACT': 1, 'ATTTCATAACTACAAC': 2, 'AGAGGCGGAAGGCGTC': 1, 'TTGGCCTGCCCTAAAT': 2, 'CGGCCCCAACGCAATG': 1, 'CGTCGGCCTGTTCATA': 3, 'TGAATTACCTAACCCG': 1, 'CATCACGCCCCTTAGC': 1, 'CTCGACCCGAGGTTAA': 1, 'TTTGTCCCTTGAACCC': 1, 'ACGGATAATTACCGGC': 1, 'TGGAATACCAATAACT': 1, 'ATGGGTCCCCCCCAAA': 1, 'AATACGAGCATCTCGG': 1, 'CGTCATAGAGAAGGTT': 1, 'ACGAGAGGCCGACTCG': 1, 'TTACTCTAAAAAATGA': 1, 'CGAATCTGCGCAATCC': 1, 'TGGGCAATAAACGTAG': 1, 'TTATACCTTAGTCTGT': 1, 'TCTTAACAGCATCAGC': 1, 'TTCGACTTCCTAATAC': 1, 'TAATATATGGATATTC': 13, 'CACACCAGTCATCCCT': 1, 'GTTAGTATTTCAGTAT': 1, 'GTCTCCCATCATGTAG': 2, 'AACCGTCACCTCTACC': 1, 'ACCAAGTCTAGCTAAC': 1, 'AACTGTGACCAGGAAG': 1, 'ATAGTCGGGACTACCG': 1, 'GCGGCAGAGCTGCTTT': 6, 'AAATGAGACAGACTAC': 1, 'GACTTACGGCGTCATG': 2, 'GTACACTCCGTGAATC': 1, 'ACACTCCTCAACCCTT': 1, 'TGGGAAATAAATGTAG': 1, 'AAAAAACCCCCCGACA': 1, 'CATACCTTTCTGACTT': 3, 'CCACCGTGTCAGCCCG': 1, 'TTCGAATTCCTAGTAC': 1, 'GATCTCTCAGATTAGA': 1, 'GCCCCACAATAACCAC': 1, 'TGGGCAAGAAATGTAG': 1, 'CACAACACGTACGTAA': 1, 'GCACGCGATCTCCGAC': 1, 'AACCGTCACCTCAAAC': 1, 'AAACAAACAAGTGTGT': 1, 'TATCATTCTTACTAAA': 1, 'TGACAACCACATCCCC': 1, 'ATGGAAACCCAGGCCA': 1, 'ATTGAATAACTACAAC': 1, 'AGGGGCACGAGTCGCC': 2, 'TCAAGAAACTTCAATG': 1, 'CTGGGTCGCCCCCAAA': 1, 'ATCGACTCACAGTACT': 1, 'TCCGTATAACCAAAAG': 1, 'GGTCATACGCCTCCGC': 1, 'ACAGGCAGCTACGGGA': 3, 'AGAATAATCTCAGACT': 1, 'TTATCGTCTCCCATAC': 1, 'CTTAGTAGTTCAGTAT': 1, 'TTCGGTGAAAGTACAC': 1, 'GACCACATTTATCCGT': 1, 'CCGCTCCCTCCTGTCC': 1, 'AAACGTGACCAGGAAG': 1, 'GACACTCCAGTCGACA': 1, 'CCACCGTGGGAGCCCG': 1, 'ACCGACTGACAGTACT': 1, 'TGCTGACAACGCGTAA': 1, 'GCTGCACCATCTCCTC': 1, 'ACCAGACCGTGAGCCA': 1, 'GGAAATTATACTCCCA': 1, 'TGCAATACCAATAACG': 1, 'TATTTCCGATCAGTCT': 1, 'GATATAGCTAGCACAG': 1, 'GTTTCATACCCCTATC': 1, 'GTACCCTACGTGAATC': 1, 'GTGAACTTAAAGCTCC': 1, 'GTCCCATATGAAGACG': 1, 'AGTACTCATCGTGCAA': 1, 'CCCAGACCGTGAGACA': 1, 'CTCCTTCACTCGCCAA': 1, 'CGAATCTGCGCAATAT': 1, 'GCGAAATGCAATCCCC': 1, 'CCCACCTTCACAACTA': 1, 'AGCACACCCAGCTCGA': 1, 'AGACCGTCAGACACCA': 1, 'CGAGGCGGAAGGGGTC': 1, 'GTACCATCCGTGAATC': 1, 'CAAGCCATCCCCTCTT': 1, 'TTCCCTAGAGACTAAC': 1, 'TCTTAACATCGTCAGC': 1, 'CGAATCTGAGCAATCT': 1, 'ACCGACCAGACATTAA': 1, 'ATTCACACTACTGCCA': 1, 'CCGCTCCCTGCTGTAC': 1, 'TACGGTGAACGTACAC': 1, 'CCCTACCCGACATTAA': 1, 'TGACAAACACGTCCCC': 1, 'AGGCCCCAACGCAATA': 1, 'ATAGTCGAGCCTACCG': 1, 'ACCGACGCACAGTACT': 1, 'GCACGCGATTTGCGAC': 1, 'ATTGCATGACTACAAC': 1, 'AATACGAACATATCGG': 1, 'GCTACTACTATACCTT': 1}\n"
     ]
    }
   ],
   "source": [
    "\n",
    "#initialize empty dictionaries for number of NA and HA reads and barcodes\n",
    "type_counts = {'invalid':0,'NA':0,'HA':0}\n",
    "NA_barcode_counts = {'invalid':0}\n",
    "HA_barcode_counts = {'invalid':0}\n",
    "\n",
    "#define sequences\n",
    "NA = 'CACGATAGATAAATAATAGTGCACCAT'\n",
    "HA = 'CCGGATTTGCATATAATGATGCACCAT'\n",
    "\n",
    "\n",
    "#loop through each sequence read one-by-one\n",
    "for seq in seqreads_RevComp:\n",
    "    type = read_type(seq, endlen=27)\n",
    "\n",
    "    #check if the end sequence is the NA defining seq\n",
    "    if type == NA:\n",
    "        type_counts['NA'] += 1   \n",
    "        #if it's an NA sequence, get its barcode and count it in the NA dictionary\n",
    "        barcode = read_barcode(seq, bclen=16)\n",
    "        if barcode:\n",
    "            if barcode in NA_barcode_counts:\n",
    "                NA_barcode_counts[barcode] += 1\n",
    "            else:\n",
    "                NA_barcode_counts[barcode] = 1\n",
    "        else:\n",
    "            NA_barcode_counts['invalid'] += 1\n",
    "\n",
    "    #check if the end sequence is the HA defining seq\n",
    "    elif type == HA:\n",
    "        type_counts['HA'] += 1\n",
    "\n",
    "        #if it's an HA sequence, get its barcode and count it in the HA dictionary\n",
    "        barcode = read_barcode(seq, bclen=16)\n",
    "        if barcode:\n",
    "            if barcode in HA_barcode_counts:\n",
    "                HA_barcode_counts[barcode] += 1\n",
    "            else:\n",
    "                HA_barcode_counts[barcode] = 1\n",
    "        else:\n",
    "            HA_barcode_counts['invalid'] += 1\n",
    "    \n",
    "    #if doesnt \n",
    "    else:\n",
    "        type_counts['invalid'] += 1\n",
    "\n",
    "print(f\"Found {type_counts['invalid']} invalid reads, {type_counts['NA']} NA reads, and {type_counts['HA']} HA reads \")\n",
    "print(NA_barcode_counts)\n",
    "print(HA_barcode_counts)\n",
    "\n"
   ]
  },
  {
   "attachments": {},
   "cell_type": "markdown",
   "metadata": {},
   "source": [
    "3. What is the HA barcode with the most counts (and how many counts)? Also answer the same question for NA.\n",
    "\n",
    "    _Hint: you will need to find the key associated with the maximum value in your dictionary. There are many ways to do this._"
   ]
  },
  {
   "cell_type": "code",
   "execution_count": 53,
   "metadata": {},
   "outputs": [
    {
     "name": "stdout",
     "output_type": "stream",
     "text": [
      "the most common barcode is repeated 155\n",
      "the barcode with the most repetitions is CCCGACCCGACATTAA\n"
     ]
    }
   ],
   "source": [
    "#initialize empty variables\n",
    "maxcount = 0\n",
    "mostcount_barcode = ''\n",
    " \n",
    " #loop through all barcodes\n",
    "for barcode in HA_barcode_counts:\n",
    "\n",
    "    #check to see if number of entries in dict for that specific barcode is longer than the longest recorded\n",
    "    if HA_barcode_counts[barcode] > maxcount:\n",
    "\n",
    "        #if this barcode has the most counts, re-adjust counter variable and assign that barcode to a new var\n",
    "        maxcount = HA_barcode_counts[barcode]\n",
    "        mostcount_barcode = barcode\n",
    "\n",
    "print('the most common barcode is repeated', maxcount)\n",
    "print('the barcode with the most repetitions is',mostcount_barcode)\n"
   ]
  }
 ],
 "metadata": {
  "kernelspec": {
   "display_name": "Python 3.9.12 ('base')",
   "language": "python",
   "name": "python3"
  },
  "language_info": {
   "codemirror_mode": {
    "name": "ipython",
    "version": 3
   },
   "file_extension": ".py",
   "mimetype": "text/x-python",
   "name": "python",
   "nbconvert_exporter": "python",
   "pygments_lexer": "ipython3",
   "version": "3.9.12"
  },
  "toc": {
   "nav_menu": {},
   "number_sections": false,
   "sideBar": true,
   "skip_h1_title": false,
   "toc_cell": false,
   "toc_position": {
    "height": "623.8px",
    "left": "0px",
    "right": "829.6px",
    "top": "33.2px",
    "width": "322.4px"
   },
   "toc_section_display": "block",
   "toc_window_display": true
  },
  "vscode": {
   "interpreter": {
    "hash": "d4d1e4263499bec80672ea0156c357c1ee493ec2b1c70f0acce89fc37c4a6abe"
   }
  }
 },
 "nbformat": 4,
 "nbformat_minor": 2
}
